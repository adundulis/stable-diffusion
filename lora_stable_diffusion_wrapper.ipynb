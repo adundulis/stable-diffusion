{
  "nbformat": 4,
  "nbformat_minor": 0,
  "metadata": {
    "colab": {
      "provenance": [],
      "authorship_tag": "ABX9TyM0ym0XwRaqLJNorNYZqaOj",
      "include_colab_link": true
    },
    "kernelspec": {
      "name": "python3",
      "display_name": "Python 3"
    },
    "language_info": {
      "name": "python"
    }
  },
  "cells": [
    {
      "cell_type": "markdown",
      "metadata": {
        "id": "view-in-github",
        "colab_type": "text"
      },
      "source": [
        "<a href=\"https://colab.research.google.com/github/adundulis/stable-diffusion/blob/main/lora_stable_diffusion_wrapper.ipynb\" target=\"_parent\"><img src=\"https://colab.research.google.com/assets/colab-badge.svg\" alt=\"Open In Colab\"/></a>"
      ]
    },
    {
      "cell_type": "markdown",
      "source": [
        "# LoRA stable diffusion"
      ],
      "metadata": {
        "id": "BSTKrYnktls4"
      }
    },
    {
      "cell_type": "code",
      "source": [
        "#@markdown # Setup LoRA, Dependencies and Mount Google Drive\n",
        "\n",
        "from IPython.utils import capture\n",
        "import sys\n",
        "import os\n",
        "import time\n",
        "\n",
        "SESSION_NAME = \"\" #@param{type: 'string'}\n",
        "\n",
        "if SESSION_NAME == \"\":\n",
        "  raise SystemExit('SESSION_NAME should not be empty.')\n",
        "\n",
        "print('Mounting Google Drive...')\n",
        "with capture.capture_output() as cap:\n",
        "  from google.colab import drive\n",
        "  drive.mount('/content/gdrive')\n",
        "\n",
        "print('Installing LoRA and Dependencies...')\n",
        "with capture.capture_output() as cap:\n",
        "  !git clone https://github.com/cloneofsimo/lora.git && sed -i 's/functools.cache/functools.lru_cache(maxsize=None)/g' /content/lora/lora_diffusion/xformers_utils.py && pip install /content/lora\n",
        "  !pip install accelerate bitsandbytes\n",
        "\n",
        "print('Intialising Session Workspace...')\n",
        "WORKSPACE='/content/gdrive/MyDrive/lora-stable-difussion'\n",
        "SESSION_DIR = WORKSPACE + '/sessions/' + SESSION_NAME\n",
        "IMAGES_DIR = SESSION_DIR + '/images'\n",
        "CAPTIONS_DIR = SESSION_DIR + '/captions'\n",
        "MODELS_DIR = SESSION_DIR + '/models'\n",
        "\n",
        "with capture.capture_output() as cap:\n",
        "  %cd /content\n",
        "  if not os.path.exists(str(SESSION_DIR)):\n",
        "    %mkdir -p $SESSION_DIR\n",
        "    time.sleep(1)\n",
        "  if not os.path.exists(str(IMAGES_DIR)):\n",
        "    %mkdir -p $IMAGES_DIR\n",
        "    time.sleep(1)\n",
        "  if not os.path.exists(str(CAPTIONS_DIR)):\n",
        "    %mkdir -p $CAPTIONS_DIR\n",
        "    time.sleep(1)\n",
        "  if not os.path.exists(str(MODELS_DIR)):\n",
        "    %mkdir -p $MODELS_DIR\n",
        "    time.sleep(1)\n",
        "\n",
        "print('\\033[92m' + 'Initialisation Successful' + '\\033[0m')"
      ],
      "metadata": {
        "id": "AlC4lBc2t0SN",
        "cellView": "form"
      },
      "execution_count": null,
      "outputs": []
    },
    {
      "cell_type": "code",
      "source": [
        "#@markdown # Upload Images and Captions"
      ],
      "metadata": {
        "cellView": "form",
        "id": "oBlmx3AR-5bl"
      },
      "execution_count": null,
      "outputs": []
    }
  ]
}