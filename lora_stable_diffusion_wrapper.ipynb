{
  "nbformat": 4,
  "nbformat_minor": 0,
  "metadata": {
    "colab": {
      "provenance": [],
      "authorship_tag": "ABX9TyOlss4utDF0fs/Q+Hey4t/x",
      "include_colab_link": true
    },
    "kernelspec": {
      "name": "python3",
      "display_name": "Python 3"
    },
    "language_info": {
      "name": "python"
    }
  },
  "cells": [
    {
      "cell_type": "markdown",
      "metadata": {
        "id": "view-in-github",
        "colab_type": "text"
      },
      "source": [
        "<a href=\"https://colab.research.google.com/github/adundulis/stable-diffusion/blob/main/lora_stable_diffusion_wrapper.ipynb\" target=\"_parent\"><img src=\"https://colab.research.google.com/assets/colab-badge.svg\" alt=\"Open In Colab\"/></a>"
      ]
    },
    {
      "cell_type": "markdown",
      "source": [
        "# LoRA Stable Diffusion"
      ],
      "metadata": {
        "id": "BSTKrYnktls4"
      }
    },
    {
      "cell_type": "code",
      "source": [
        "#@markdown # Setup LoRA, Dependencies and Mount Google Drive\n",
        "\n",
        "from IPython.utils import capture\n",
        "import sys\n",
        "import os\n",
        "import time\n",
        "\n",
        "SESSION_NAME = \"char\" #@param{type: 'string'}\n",
        "\n",
        "if SESSION_NAME == \"\":\n",
        "  raise SystemExit('SESSION_NAME should not be empty.')\n",
        "\n",
        "print('Mounting Google Drive...')\n",
        "with capture.capture_output() as cap:\n",
        "  from google.colab import drive\n",
        "  drive.mount('/content/gdrive')\n",
        "\n",
        "print('Installing LoRA and Dependencies...')\n",
        "with capture.capture_output() as cap:\n",
        "  !git clone https://github.com/cloneofsimo/lora.git && sed -i 's/functools.cache/functools.lru_cache(maxsize=None)/g' /content/lora/lora_diffusion/xformers_utils.py && pip install /content/lora\n",
        "  !pip install accelerate bitsandbytes\n",
        "\n",
        "print('Intialising Session Workspace...')\n",
        "WORKSPACE='/content/gdrive/MyDrive/lora-stable-difussion'\n",
        "SESSION_DIR = WORKSPACE + '/sessions/' + SESSION_NAME\n",
        "IMAGES_DIR = SESSION_DIR + '/images'\n",
        "CAPTIONS_DIR = SESSION_DIR + '/captions'\n",
        "MODELS_DIR = SESSION_DIR + '/models'\n",
        "\n",
        "with capture.capture_output() as cap:\n",
        "  %cd /content\n",
        "  if not os.path.exists(str(SESSION_DIR)):\n",
        "    %mkdir -p $SESSION_DIR\n",
        "    time.sleep(1)\n",
        "  if not os.path.exists(str(IMAGES_DIR)):\n",
        "    %mkdir -p $IMAGES_DIR\n",
        "    time.sleep(1)\n",
        "  if not os.path.exists(str(CAPTIONS_DIR)):\n",
        "    %mkdir -p $CAPTIONS_DIR\n",
        "    time.sleep(1)\n",
        "  if not os.path.exists(str(MODELS_DIR)):\n",
        "    %mkdir -p $MODELS_DIR\n",
        "    time.sleep(1)\n",
        "\n",
        "print('\\033[92m' + 'Initialisation Successful' + '\\033[0m')"
      ],
      "metadata": {
        "cellView": "form",
        "id": "AlC4lBc2t0SN"
      },
      "execution_count": null,
      "outputs": []
    },
    {
      "cell_type": "code",
      "source": [
        "#@markdown # Upload Images and Captions\n",
        "\n",
        "import shutil\n",
        "from google.colab import files\n",
        "from IPython.display import display, clear_output\n",
        "\n",
        "UPLOAD_IMAGES = True #@param{type: 'boolean'}\n",
        "UPLOAD_CAPTIONS = True #@param{type: 'boolean'}\n",
        "REMOVE_EXISTING_IMAGES = True #@param{type: 'boolean'}\n",
        "REMOVE_EXISTING_CAPTIONS = True #@param{type: 'boolean'}\n",
        "\n",
        "if REMOVE_EXISTING_IMAGES:\n",
        "  if os.path.exists(str(IMAGES_DIR)):\n",
        "    !rm -r \"$IMAGES_DIR\"\n",
        "if not os.path.exists(str(IMAGES_DIR)):\n",
        "  %mkdir -p \"$IMAGES_DIR\"\n",
        "\n",
        "if REMOVE_EXISTING_CAPTIONS:\n",
        "  if os.path.exists(str(CAPTIONS_DIR)):\n",
        "    !rm -r \"$CAPTIONS_DIR\"\n",
        "if not os.path.exists(str(CAPTIONS_DIR)):\n",
        "  %mkdir -p \"$CAPTIONS_DIR\"\n",
        "\n",
        "print('Upload Images')\n",
        "uploaded_images = files.upload()\n",
        "for filename in uploaded_images.keys():\n",
        "  shutil.move(filename, IMAGES_DIR)\n",
        "\n",
        "clear_output(wait=True)\n",
        "\n",
        "print('Upload Captions')\n",
        "uploaded_captions = files.upload()\n",
        "for filename in uploaded_captions.keys():\n",
        "  shutil.move(filename, CAPTIONS_DIR)\n",
        "\n",
        "clear_output(wait=True)\n",
        "\n",
        "print('\\033[92m' + 'Upload Completed' + '\\033[0m')"
      ],
      "metadata": {
        "colab": {
          "base_uri": "https://localhost:8080/",
          "height": 35
        },
        "cellView": "form",
        "id": "oBlmx3AR-5bl",
        "outputId": "830c8dc7-6f53-42c3-9c59-67e0fe79d6a4"
      },
      "execution_count": 7,
      "outputs": [
        {
          "output_type": "stream",
          "name": "stdout",
          "text": [
            "\u001b[92mUpload Completed\u001b[0m\n"
          ]
        }
      ]
    },
    {
      "cell_type": "code",
      "source": [
        "STEPS = 300 #@param {type:\"slider\", min:0, max:10000, step:10}\n",
        "BATCH_SIZE = 1 #@param {type:\"slider\", min:0, max:128, step:1}\n",
        "FP_16 = True #@param {type:\"boolean\"}\n",
        "\n",
        "#@markdown ----\n",
        "#@markdown UNET PARAMS\n",
        "LEARNING_RATE = 3e-4 #@param {type:\"number\"}\n",
        "\n",
        "#@markdown ----\n",
        "TRAIN_TEXT_ENCODER = True #@param {type:\"boolean\"}\n",
        "#@markdown TEXT ENCODER PARAMS\n",
        "LEARNING_RATE_TEXT_ENCODER = e-5 #@param {type:\"number\"}\n",
        "\n",
        "NEW_LEARNING_RATE = LEARNING_RATE / BATCH_SIZE\n",
        "NEW_LEARNING_RATE_TEXT_ENCODER = LEARNING_RATE_TEXT_ENCODER / BATCH_SIZE\n",
        "\n",
        "if FP_16:\n",
        "  fp_16_arg = \"fp16\"\n",
        "else:\n",
        "  fp_16_arg = \"no\"\n",
        "\n",
        "if TRAIN_TEXT_ENCODER:\n",
        "  command = (f'accelerate launch lora/training_scripts/train_lora_dreambooth.py '\n",
        "             f'--pretrained_model_name_or_path=\"{PRETRAINED_MODEL}\" '\n",
        "             f'--instance_data_dir=\"{INSTANCE_DIR}\" '\n",
        "             f'--output_dir=\"{OUTPUT_DIR}\" '\n",
        "             f'--instance_prompt=\"{PROMPT}\" '\n",
        "             f'--resolution=512 '\n",
        "             f'--use_8bit_adam '\n",
        "             f'--mixed_precision=\"{fp_16_arg}\" '\n",
        "             f'--train_batch_size=1 '\n",
        "             f'--gradient_accumulation_steps=1 '\n",
        "             f'--learning_rate={NEW_LEARNING_RATE} '\n",
        "             f'--lr_scheduler=\"constant\" '\n",
        "             f'--lr_warmup_steps=0 '\n",
        "             f'--max_train_steps={STEPS} '\n",
        "             f'--train_text_encoder '\n",
        "             f'--lora_rank=16 '\n",
        "             f'--learning_rate_text={NEW_LEARNING_RATE_TEXT_ENCODER}')\n",
        "else:\n",
        "  command = (f'accelerate launch lora/training_scripts/train_lora_dreambooth.py '\n",
        "             f'--pretrained_model_name_or_path=\"{PRETRAINED_MODEL}\" '\n",
        "             f'--instance_data_dir=\"{INSTANCE_DIR}\" '\n",
        "             f'--output_dir=\"{OUTPUT_DIR}\" '\n",
        "             f'--instance_prompt=\"{PROMPT}\" '\n",
        "             f'--resolution=512 '\n",
        "             f'--use_8bit_adam '\n",
        "             f'--mixed_precision=\"{fp_16_arg}\" '\n",
        "             f'--train_batch_size=1 '\n",
        "             f'--gradient_accumulation_steps=1 '\n",
        "             f'--learning_rate={NEW_LEARNING_RATE} '\n",
        "             f'--lr_scheduler=\"constant\" '\n",
        "             f'--lr_warmup_steps=0 '\n",
        "             f'--lora_rank=16 '\n",
        "             f'--max_train_steps={STEPS} '\n",
        "             f'--learning_rate_text={NEW_LEARNING_RATE_TEXT_ENCODER}')\n",
        "!rm -rf $INSTANCE_DIR/.ipynb_checkpoints\n",
        "!{command}"
      ],
      "metadata": {
        "id": "Svv4tG1gSAZx"
      },
      "execution_count": null,
      "outputs": []
    }
  ]
}