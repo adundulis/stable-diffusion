{
  "nbformat": 4,
  "nbformat_minor": 0,
  "metadata": {
    "colab": {
      "provenance": [],
      "authorship_tag": "ABX9TyMouQxA6bqKSzWARvOJLi9Z",
      "include_colab_link": true
    },
    "kernelspec": {
      "name": "python3",
      "display_name": "Python 3"
    },
    "language_info": {
      "name": "python"
    }
  },
  "cells": [
    {
      "cell_type": "markdown",
      "metadata": {
        "id": "view-in-github",
        "colab_type": "text"
      },
      "source": [
        "<a href=\"https://colab.research.google.com/github/adundulis/stable-diffusion/blob/main/lora_stable_diffusion_wrapper.ipynb\" target=\"_parent\"><img src=\"https://colab.research.google.com/assets/colab-badge.svg\" alt=\"Open In Colab\"/></a>"
      ]
    },
    {
      "cell_type": "markdown",
      "source": [
        "# LoRA Stable Diffusion"
      ],
      "metadata": {
        "id": "BSTKrYnktls4"
      }
    },
    {
      "cell_type": "code",
      "source": [
        "#@markdown # Setup LoRA, Dependencies and Mount Google Drive\n",
        "\n",
        "from IPython.utils import capture\n",
        "import sys\n",
        "import os\n",
        "import time\n",
        "\n",
        "SESSION_NAME = \"char\" #@param{type: 'string'}\n",
        "\n",
        "if SESSION_NAME == \"\":\n",
        "  raise SystemExit('SESSION_NAME should not be empty.')\n",
        "\n",
        "print('Mounting Google Drive...')\n",
        "with capture.capture_output() as cap:\n",
        "  from google.colab import drive\n",
        "  drive.mount('/content/gdrive')\n",
        "\n",
        "print('Installing LoRA and Dependencies...')\n",
        "with capture.capture_output() as cap:\n",
        "  !git clone https://github.com/cloneofsimo/lora.git && sed -i 's/functools.cache/functools.lru_cache(maxsize=None)/g' /content/lora/lora_diffusion/xformers_utils.py && pip install /content/lora\n",
        "  !pip install accelerate bitsandbytes\n",
        "\n",
        "print('Intialising Session Workspace...')\n",
        "WORKSPACE='/content/gdrive/MyDrive/lora-stable-difussion'\n",
        "SESSION_DIR = WORKSPACE + '/sessions/' + SESSION_NAME\n",
        "IMAGES_DIR = SESSION_DIR + '/images'\n",
        "CAPTIONS_DIR = SESSION_DIR + '/captions'\n",
        "MODELS_DIR = SESSION_DIR + '/models'\n",
        "\n",
        "with capture.capture_output() as cap:\n",
        "  %cd /content\n",
        "  if not os.path.exists(str(SESSION_DIR)):\n",
        "    %mkdir -p $SESSION_DIR\n",
        "    time.sleep(1)\n",
        "  if not os.path.exists(str(IMAGES_DIR)):\n",
        "    %mkdir -p $IMAGES_DIR\n",
        "    time.sleep(1)\n",
        "  if not os.path.exists(str(CAPTIONS_DIR)):\n",
        "    %mkdir -p $CAPTIONS_DIR\n",
        "    time.sleep(1)\n",
        "  if not os.path.exists(str(MODELS_DIR)):\n",
        "    %mkdir -p $MODELS_DIR\n",
        "    time.sleep(1)\n",
        "\n",
        "print('\\033[92m' + 'Initialisation Successful' + '\\033[0m')"
      ],
      "metadata": {
        "colab": {
          "base_uri": "https://localhost:8080/"
        },
        "cellView": "form",
        "id": "AlC4lBc2t0SN",
        "outputId": "877c4ea7-c776-4b8f-f252-46115efd0132"
      },
      "execution_count": 34,
      "outputs": [
        {
          "output_type": "stream",
          "name": "stdout",
          "text": [
            "Mounting Google Drive...\n",
            "Installing LoRA and Dependencies...\n",
            "Intialising Session Workspace...\n",
            "\u001b[92mInitialisation Successful\u001b[0m\n"
          ]
        }
      ]
    },
    {
      "cell_type": "code",
      "source": [
        "#@markdown # Upload Images and Captions\n",
        "\n",
        "import shutil\n",
        "from google.colab import files\n",
        "from IPython.display import display, clear_output\n",
        "\n",
        "UPLOAD_IMAGES = True #@param{type: 'boolean'}\n",
        "UPLOAD_CAPTIONS = True #@param{type: 'boolean'}\n",
        "REMOVE_EXISTING_IMAGES = False #@param{type: 'boolean'}\n",
        "REMOVE_EXISTING_CAPTIONS = False #@param{type: 'boolean'}\n",
        "\n",
        "print('Upload Images')\n",
        "uploaded_images = files.upload()\n",
        "\n",
        "clear_output(wait=True)\n",
        "\n",
        "print('Upload Captions')\n",
        "uploaded_captions = files.upload()\n",
        "\n",
        "clear_output(wait=True)\n",
        "\n",
        "print('\\033[92m' + 'Upload Completed' + '\\033[0m')"
      ],
      "metadata": {
        "colab": {
          "base_uri": "https://localhost:8080/",
          "height": 35
        },
        "cellView": "form",
        "id": "oBlmx3AR-5bl",
        "outputId": "227faf22-4569-410c-e4bf-9ec511f62fa9"
      },
      "execution_count": 41,
      "outputs": [
        {
          "output_type": "stream",
          "name": "stdout",
          "text": [
            "\u001b[92mUpload Completed\u001b[0m\n"
          ]
        }
      ]
    }
  ]
}